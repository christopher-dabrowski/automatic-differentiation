{
 "cells": [
  {
   "cell_type": "markdown",
   "id": "3cd3f33c",
   "metadata": {},
   "source": [
    "# Detect Sentyment\n",
    "\n",
    "Nural Network for evaluating sentyment of movie reviews."
   ]
  },
  {
   "cell_type": "markdown",
   "id": "42d942df",
   "metadata": {},
   "source": [
    "Activate the environment."
   ]
  },
  {
   "cell_type": "code",
   "execution_count": 1,
   "id": "fdfd1cf0",
   "metadata": {},
   "outputs": [
    {
     "name": "stderr",
     "output_type": "stream",
     "text": [
      "\u001b[32m\u001b[1m  Activating\u001b[22m\u001b[39m project at `~/LocalDocuments/Studia/myAutomaticDifferentiation/SimpleNuralNetwork`\n"
     ]
    }
   ],
   "source": [
    "using Pkg\n",
    "Pkg.activate(\".\")"
   ]
  },
  {
   "cell_type": "markdown",
   "id": "9973d10c",
   "metadata": {},
   "source": [
    "Load supporting code."
   ]
  },
  {
   "cell_type": "code",
   "execution_count": 2,
   "id": "4f6059f1",
   "metadata": {},
   "outputs": [
    {
     "data": {
      "text/plain": [
       "backward (generic function with 13 methods)"
      ]
     },
     "metadata": {},
     "output_type": "display_data"
    }
   ],
   "source": [
    "include(\"./src/ComputationalGraph.jl\")\n",
    "include(\"./src/Printing.jl\")\n",
    "include(\"./src/GraphBuilding.jl\")\n",
    "include(\"./src/ForwardPass.jl\")\n",
    "include(\"./src/BackwardPass.jl\")\n",
    "include(\"./src/ScalarOperations.jl\")\n",
    "include(\"./src/BroadcastOperations.jl\")\n",
    "include(\"./src/other_rules.jl\")"
   ]
  },
  {
   "cell_type": "markdown",
   "id": "928098f8",
   "metadata": {},
   "source": [
    "# Testing"
   ]
  },
  {
   "cell_type": "code",
   "execution_count": 3,
   "id": "5c63f223",
   "metadata": {},
   "outputs": [
    {
     "data": {
      "text/plain": [
       "4-element Vector{Any}:\n",
       " var x\n",
       " ┣━ ^ Float64\n",
       " ┗━ ∇ Nothing\n",
       " const 2.0\n",
       " op ?(typeof(^))\n",
       " op ?(typeof(sin))"
      ]
     },
     "metadata": {},
     "output_type": "display_data"
    }
   ],
   "source": [
    "x = Variable(5.0, name=\"x\")\n",
    "two = Constant(2.0)\n",
    "squared = x^two\n",
    "sine = sin(squared)\n",
    "\n",
    "order = topological_sort(sine)"
   ]
  },
  {
   "cell_type": "code",
   "execution_count": 4,
   "id": "94968864",
   "metadata": {},
   "outputs": [
    {
     "data": {
      "text/plain": [
       "-0.13235175009777303"
      ]
     },
     "metadata": {},
     "output_type": "display_data"
    }
   ],
   "source": [
    "y = forward!(order)"
   ]
  },
  {
   "cell_type": "code",
   "execution_count": 5,
   "id": "bb73faca",
   "metadata": {},
   "outputs": [],
   "source": [
    "backward!(order)"
   ]
  },
  {
   "cell_type": "code",
   "execution_count": 6,
   "id": "e41eb400",
   "metadata": {},
   "outputs": [
    {
     "data": {
      "text/plain": [
       "9.912028118634735"
      ]
     },
     "metadata": {},
     "output_type": "display_data"
    }
   ],
   "source": [
    "x.gradient"
   ]
  },
  {
   "cell_type": "markdown",
   "id": "929a3718",
   "metadata": {},
   "source": [
    "# Nural Network"
   ]
  },
  {
   "cell_type": "code",
   "execution_count": null,
   "id": "e3dfdaff",
   "metadata": {},
   "outputs": [],
   "source": []
  },
  {
   "cell_type": "code",
   "execution_count": 7,
   "id": "f5db11d8",
   "metadata": {},
   "outputs": [
    {
     "data": {
      "text/plain": [
       "dense (generic function with 3 methods)"
      ]
     },
     "metadata": {},
     "output_type": "display_data"
    }
   ],
   "source": [
    "function dense(w, b, x, activation) return activation(w * x .+ b) end\n",
    "function dense(w, x, activation) return activation(w * x) end\n",
    "function dense(w, x) return w * x end"
   ]
  },
  {
   "cell_type": "code",
   "execution_count": 9,
   "id": "8c1b3ee8",
   "metadata": {},
   "outputs": [],
   "source": [
    "using JLD2\n",
    "X_train = load(\"./data/imdb_dataset_prepared.jld2\", \"X_train\")\n",
    "y_train = load(\"./data/imdb_dataset_prepared.jld2\", \"y_train\")\n",
    "X_test = load(\"./data/imdb_dataset_prepared.jld2\", \"X_test\")\n",
    "y_test = load(\"./data/imdb_dataset_prepared.jld2\", \"y_test\")\n",
    "nothing"
   ]
  },
  {
   "cell_type": "code",
   "execution_count": 11,
   "id": "64e50c33",
   "metadata": {},
   "outputs": [
    {
     "data": {
      "text/plain": [
       "1"
      ]
     },
     "metadata": {},
     "output_type": "display_data"
    }
   ],
   "source": [
    "input_neurons = size(X_train, 1)\n",
    "hidden_neurons = 32\n",
    "output_neurons = 1"
   ]
  },
  {
   "cell_type": "code",
   "execution_count": 31,
   "id": "982d247f",
   "metadata": {},
   "outputs": [],
   "source": [
    "using LinearAlgebra"
   ]
  },
  {
   "cell_type": "code",
   "execution_count": 16,
   "id": "43cd4cec",
   "metadata": {},
   "outputs": [],
   "source": [
    "wh = Variable(randn(hidden_neurons, input_neurons), name=\"wh\")\n",
    "wo = Variable(randn(output_neurons, hidden_neurons), name=\"wo\")\n",
    "bh = Variable(zeros(hidden_neurons), name=\"bh\")\n",
    "bo = Variable(zeros(output_neurons), name=\"bo\")\n",
    "x = Variable(zeros(input_neurons), name=\"x\")\n",
    "y = Variable(zeros(output_neurons), name=\"y\")\n",
    "\n",
    "epochs = 5\n",
    "nothing"
   ]
  },
  {
   "cell_type": "markdown",
   "id": "8a0c5357",
   "metadata": {},
   "source": [
    "For now instead of using Adam optimizer I will use a simple gradient descent optimizer."
   ]
  },
  {
   "cell_type": "code",
   "execution_count": 17,
   "id": "3ce0740e",
   "metadata": {},
   "outputs": [
    {
     "data": {
      "text/plain": [
       "0.001"
      ]
     },
     "metadata": {},
     "output_type": "display_data"
    }
   ],
   "source": [
    "η = 0.001"
   ]
  },
  {
   "cell_type": "code",
   "execution_count": 15,
   "id": "3e2c76b0",
   "metadata": {},
   "outputs": [
    {
     "data": {
      "text/plain": [
       "ReLU (generic function with 1 method)"
      ]
     },
     "metadata": {},
     "output_type": "display_data"
    }
   ],
   "source": [
    "binary_cross_entropy_loss(y, ŷ) = sum(Constant(-1.0) .* (y .* log.(ŷ) .+ (Constant(1.0) .- y) .* log.(Constant(1.0) .- ŷ)))\n",
    "ReLU(x) = max.(Constant(0.0), x)"
   ]
  },
  {
   "cell_type": "code",
   "execution_count": 18,
   "id": "02800099",
   "metadata": {},
   "outputs": [
    {
     "data": {
      "text/plain": [
       "net (generic function with 1 method)"
      ]
     },
     "metadata": {},
     "output_type": "display_data"
    }
   ],
   "source": [
    "function net(x, wh, bh, wo, bo)\n",
    "  x̂ = dense(wh, bh, x, ReLU)\n",
    "  x̂.name = \"x̂\"\n",
    "  ŷ = dense(wo, bo, x̂, σ)\n",
    "  ŷ.name = \"ŷ\"\n",
    "  return ŷ\n",
    "end"
   ]
  },
  {
   "cell_type": "code",
   "execution_count": 22,
   "id": "0ca28a9c",
   "metadata": {},
   "outputs": [
    {
     "data": {
      "text/plain": [
       "loss (generic function with 1 method)"
      ]
     },
     "metadata": {},
     "output_type": "display_data"
    }
   ],
   "source": [
    "function loss(x, y, wh, bh, wo, bo)\n",
    "  ŷ = net(x, wh, bh, wo, bo)\n",
    "  E = binary_cross_entropy_loss(y, ŷ); E.name = \"loss\"\n",
    "  return E\n",
    "end"
   ]
  },
  {
   "cell_type": "code",
   "execution_count": 26,
   "id": "ad413b08",
   "metadata": {},
   "outputs": [],
   "source": [
    "graph = topological_sort(loss(x, y, wh, bh, wo, bo))\n",
    "nothing"
   ]
  },
  {
   "cell_type": "code",
   "execution_count": 28,
   "id": "ad3417a4",
   "metadata": {},
   "outputs": [
    {
     "data": {
      "text/plain": [
       "125-element DataLoader(::Tuple{LinearAlgebra.Adjoint{Float32, Matrix{Float32}}, BitMatrix}, shuffle=true, batchsize=64)\n",
       "  with first element:\n",
       "  (17703×64 Matrix{Float32}, 1×64 BitMatrix,)"
      ]
     },
     "metadata": {},
     "output_type": "display_data"
    }
   ],
   "source": [
    "using Flux, Printf, Statistics\n",
    "dataset = Flux.DataLoader((X_train, y_train), batchsize=64, shuffle=true)"
   ]
  },
  {
   "cell_type": "code",
   "execution_count": null,
   "id": "569c0c06",
   "metadata": {},
   "outputs": [
    {
     "name": "stdout",
     "output_type": "stream",
     "text": [
      "Epoch: 1 (29.38s) \tTrain: (l: 1.1338, a: 0.4993) \tTest: (l: 1.0614, a: 0.5020)\n",
      "Epoch: 2 (30.90s) \tTrain: (l: 1.1277, a: 0.5028) \tTest: (l: 1.0556, a: 0.5025)\n",
      "Epoch: 3 (30.17s) \tTrain: (l: 1.1218, a: 0.5016) \tTest: (l: 1.0499, a: 0.5050)\n",
      "Epoch: 4 (30.48s) \tTrain: (l: 1.1161, a: 0.5054) \tTest: (l: 1.0442, a: 0.5020)\n",
      "Epoch: 5 (31.66s) \tTrain: (l: 1.1105, a: 0.5101) \tTest: (l: 1.0386, a: 0.5030)\n",
      "Epoch: 3 (30.17s) \tTrain: (l: 1.1218, a: 0.5016) \tTest: (l: 1.0499, a: 0.5050)\n",
      "Epoch: 4 (30.48s) \tTrain: (l: 1.1161, a: 0.5054) \tTest: (l: 1.0442, a: 0.5020)\n",
      "Epoch: 5 (31.66s) \tTrain: (l: 1.1105, a: 0.5101) \tTest: (l: 1.0386, a: 0.5030)\n"
     ]
    }
   ],
   "source": [
    "function test(X, Y, indices)\n",
    "  L = 0.0\n",
    "  for j in indices\n",
    "    x.output .= X[:, j]\n",
    "    y.output .= [Y[j]]\n",
    "    L += forward!(graph)\n",
    "  end\n",
    "  return L / length(indices)\n",
    "end\n",
    "\n",
    "function loss_fn(m_func, x_val, y_val)\n",
    "    x.output .= x_val\n",
    "    y.output .= y_val\n",
    "    return forward!(graph)\n",
    "end\n",
    "\n",
    "function accuracy(x_vals, y_vals)\n",
    "    correct = 0\n",
    "    total = size(x_vals, 2)\n",
    "\n",
    "    for i in 1:total\n",
    "        x.output .= x_vals[:, i]\n",
    "        forward!(graph)\n",
    "\n",
    "        prediction = graph[end].output[1] > 0.5\n",
    "        actual = y_vals[i] > 0.5\n",
    "        if prediction == actual\n",
    "            correct += 1\n",
    "        end\n",
    "    end\n",
    "\n",
    "    return correct / total\n",
    "end\n",
    "\n",
    "function train_batch(X_batch, y_batch)\n",
    "    batch_size = size(X_batch, 2)\n",
    "    batch_loss = 0.0\n",
    "\n",
    "    ∇wh = zeros(hidden_neurons, input_neurons)\n",
    "    ∇wo = zeros(output_neurons, hidden_neurons)\n",
    "    ∇bh = zeros(hidden_neurons)\n",
    "    ∇bo = zeros(output_neurons)\n",
    "\n",
    "    for j = 1:batch_size\n",
    "        current_loss = loss_fn(nothing, X_batch[:, j], [y_batch[j]])\n",
    "        batch_loss += current_loss\n",
    "\n",
    "        backward!(graph)\n",
    "\n",
    "        ∇wh .+= wh.gradient\n",
    "        ∇wo .+= wo.gradient\n",
    "        ∇bh .+= bh.gradient\n",
    "        ∇bo .+= bo.gradient\n",
    "    end\n",
    "\n",
    "    wh.output .-= η / batch_size * ∇wh\n",
    "    bh.output .-= η / batch_size * ∇bh\n",
    "    wo.output .-= η / batch_size * ∇wo\n",
    "    bo.output .-= η / batch_size * ∇bo\n",
    "\n",
    "    return batch_loss / batch_size\n",
    "end\n",
    "\n",
    "for epoch in 1:epochs\n",
    "    total_loss = 0.0\n",
    "    total_acc = 0.0\n",
    "    num_batches = 0\n",
    "\n",
    "    t = @elapsed begin\n",
    "        for (x_batch, y_batch) in dataset\n",
    "            batch_loss = train_batch(x_batch, y_batch)\n",
    "            batch_acc = accuracy(x_batch, y_batch)\n",
    "\n",
    "            total_loss += batch_loss\n",
    "            total_acc += batch_acc\n",
    "            num_batches += 1\n",
    "        end\n",
    "\n",
    "        train_loss = total_loss / num_batches\n",
    "        train_acc = total_acc / num_batches\n",
    "\n",
    "        test_acc = accuracy(X_test, y_test)\n",
    "\n",
    "        test_loss = 0.0\n",
    "        for i in test_indices\n",
    "            test_loss += loss_fn(nothing, X_test[:, i], [y_test[i]])\n",
    "        end\n",
    "        test_loss /= length(test_indices)\n",
    "    end\n",
    "\n",
    "    @printf(\"Epoch: %d (%.2fs) \\tTrain: (l: %.4f, a: %.4f) \\tTest: (l: %.4f, a: %.4f)\\n\", \n",
    "        epoch, t, train_loss, train_acc, test_loss, test_acc)\n",
    "end"
   ]
  }
 ],
 "metadata": {
  "kernelspec": {
   "display_name": "Julia 1.11.5",
   "language": "julia",
   "name": "julia-1.11"
  },
  "language_info": {
   "file_extension": ".jl",
   "mimetype": "application/julia",
   "name": "julia",
   "version": "1.11.5"
  }
 },
 "nbformat": 4,
 "nbformat_minor": 5
}
