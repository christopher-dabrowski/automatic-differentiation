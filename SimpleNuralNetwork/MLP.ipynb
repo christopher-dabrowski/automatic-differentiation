{
 "cells": [
  {
   "cell_type": "markdown",
   "id": "3cd3f33c",
   "metadata": {},
   "source": [
    "# Detect Sentyment\n",
    "\n",
    "Nural Network for evaluating sentyment of movie reviews."
   ]
  },
  {
   "cell_type": "markdown",
   "id": "42d942df",
   "metadata": {},
   "source": [
    "Activate the environment."
   ]
  },
  {
   "cell_type": "code",
   "execution_count": null,
   "id": "fdfd1cf0",
   "metadata": {},
   "outputs": [],
   "source": [
    "using Pkg\n",
    "Pkg.activate(\".\")"
   ]
  },
  {
   "cell_type": "markdown",
   "id": "9973d10c",
   "metadata": {},
   "source": [
    "Load custom library code."
   ]
  },
  {
   "cell_type": "code",
   "execution_count": null,
   "id": "4f6059f1",
   "metadata": {},
   "outputs": [],
   "source": [
    "include(\"./src/ComputationalGraph.jl\")\n",
    "include(\"./src/Printing.jl\")\n",
    "include(\"./src/GraphBuilding.jl\")\n",
    "include(\"./src/ForwardPass.jl\")\n",
    "include(\"./src/BackwardPass.jl\")\n",
    "include(\"./src/ScalarOperations.jl\")\n",
    "include(\"./src/BroadcastOperations.jl\")\n",
    "include(\"./src/flux_like_api.jl\")"
   ]
  },
  {
   "cell_type": "markdown",
   "id": "929a3718",
   "metadata": {},
   "source": [
    "# Nural Network"
   ]
  },
  {
   "cell_type": "code",
   "execution_count": null,
   "id": "8c1b3ee8",
   "metadata": {},
   "outputs": [],
   "source": [
    "using JLD2\n",
    "X_train = load(\"./data/imdb_dataset_prepared.jld2\", \"X_train\")\n",
    "y_train = load(\"./data/imdb_dataset_prepared.jld2\", \"y_train\")\n",
    "X_test = load(\"./data/imdb_dataset_prepared.jld2\", \"X_test\")\n",
    "y_test = load(\"./data/imdb_dataset_prepared.jld2\", \"y_test\")\n",
    "nothing"
   ]
  },
  {
   "cell_type": "code",
   "execution_count": null,
   "id": "64e50c33",
   "metadata": {},
   "outputs": [],
   "source": [
    "input_neurons = size(X_train, 1)\n",
    "hidden_neurons = 32\n",
    "output_neurons = 1\n",
    "\n",
    "batch_size = 64\n",
    "epochs = 5"
   ]
  },
  {
   "cell_type": "code",
   "execution_count": null,
   "id": "982d247f",
   "metadata": {},
   "outputs": [],
   "source": [
    "using LinearAlgebra"
   ]
  },
  {
   "cell_type": "code",
   "execution_count": null,
   "id": "3e2c76b0",
   "metadata": {},
   "outputs": [],
   "source": [
    "binary_cross_entropy_loss(y, ŷ) = mean(Constant(-1.0) .* (y .* log.(ŷ) .+ (Constant(1.0) .- y) .* log.(Constant(1.0) .- ŷ)))"
   ]
  },
  {
   "cell_type": "code",
   "execution_count": null,
   "id": "0ca28a9c",
   "metadata": {},
   "outputs": [],
   "source": [
    "function loss(model, x, y)\n",
    "  ŷ = model(x)\n",
    "  E = binary_cross_entropy_loss(y, ŷ); E.name = \"loss\"\n",
    "  return E, ŷ\n",
    "end"
   ]
  },
  {
   "cell_type": "code",
   "execution_count": null,
   "id": "3e91174c",
   "metadata": {},
   "outputs": [],
   "source": [
    "model = Chain(\n",
    "  Dense(input_neurons, hidden_neurons, relu),\n",
    "  Dense(hidden_neurons, output_neurons, σ)\n",
    ")\n",
    "\n",
    "y = Variable(zeros(1, batch_size), name=\"y\")\n",
    "x = Variable(zeros(input_neurons, batch_size), name=\"x\")\n",
    "\n",
    "otp = setup(Adam(), model)"
   ]
  },
  {
   "cell_type": "code",
   "execution_count": null,
   "id": "ad3417a4",
   "metadata": {},
   "outputs": [],
   "source": [
    "using Printf, Statistics\n",
    "using Flux: DataLoader\n",
    "dataset = DataLoader((X_train, y_train), batchsize=64, shuffle=true)"
   ]
  },
  {
   "cell_type": "code",
   "execution_count": null,
   "id": "569c0c06",
   "metadata": {},
   "outputs": [],
   "source": [
    "L, ŷ_node = loss(model, x, y)\n",
    "graph = topological_sort(L)\n",
    "\n",
    "for epoch in 1:epochs\n",
    "    total_loss = 0.0\n",
    "    total_correct = 0\n",
    "    total_samples = 0\n",
    "\n",
    "    t = @elapsed begin\n",
    "        for (xb, yb) in dataset\n",
    "            current_batch_size = size(xb, 2)\n",
    "\n",
    "            x.output .= xb\n",
    "            y.output .= yb\n",
    "\n",
    "            lossValue = forward!(graph)\n",
    "\n",
    "            for param in trainable(model)\n",
    "                param.gradient = nothing\n",
    "            end\n",
    "            backward!(graph)\n",
    "\n",
    "            update!(otp, model)\n",
    "\n",
    "            ŷ = ŷ_node.output\n",
    "            predictions = ŷ .> 0.5\n",
    "            targets = y.output .> 0.5\n",
    "            total_correct += count(predictions .== targets)\n",
    "            total_loss += lossValue[1] * current_batch_size\n",
    "            total_samples += current_batch_size\n",
    "        end\n",
    "    end\n",
    "\n",
    "    avg_loss = total_loss / total_samples\n",
    "    avg_acc = total_correct / total_samples\n",
    "\n",
    "    println(@sprintf(\"Epoch: %d (%.2fs) \\tTrain: (loss: %.4f, acc: %.4f)\",\n",
    "        epoch, t, avg_loss, avg_acc))\n",
    "\n",
    "end"
   ]
  }
 ],
 "metadata": {
  "kernelspec": {
   "display_name": "Julia 1.11.5",
   "language": "julia",
   "name": "julia-1.11"
  },
  "language_info": {
   "file_extension": ".jl",
   "mimetype": "application/julia",
   "name": "julia",
   "version": "1.11.5"
  }
 },
 "nbformat": 4,
 "nbformat_minor": 5
}
