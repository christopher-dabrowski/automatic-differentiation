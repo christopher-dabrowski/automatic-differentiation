{
 "cells": [
  {
   "cell_type": "markdown",
   "id": "3cd3f33c",
   "metadata": {},
   "source": [
    "# Detect Sentyment\n",
    "\n",
    "Nural Network for evaluating sentyment of movie reviews."
   ]
  },
  {
   "cell_type": "markdown",
   "id": "20d7b4be",
   "metadata": {},
   "source": [
    "I've **updated my milestone 2 code** with the API improvements that I've prepared for the 3rd milestone, as I was not happy with the readability of my previous code.  \n",
    "The original milestone 2 code is available in the [Original Milestone 2 Submission](https://github.com/christopher-dabrowski/automatic-differentiation/releases/tag/v0.2.0) GitHub release."
   ]
  },
  {
   "cell_type": "markdown",
   "id": "42d942df",
   "metadata": {},
   "source": [
    "Activate the environment."
   ]
  },
  {
   "cell_type": "code",
   "execution_count": 1,
   "id": "fdfd1cf0",
   "metadata": {},
   "outputs": [
    {
     "name": "stderr",
     "output_type": "stream",
     "text": [
      "\u001b[32m\u001b[1m  Activating\u001b[22m\u001b[39m project at `~/LocalDocuments/Studia/AlgorytmyWInzynieriiDanych/myAutomaticDifferentiation/SimpleNuralNetwork`\n"
     ]
    }
   ],
   "source": [
    "using Pkg\n",
    "Pkg.activate(\".\")"
   ]
  },
  {
   "cell_type": "markdown",
   "id": "9973d10c",
   "metadata": {},
   "source": [
    "Load custom library code."
   ]
  },
  {
   "cell_type": "code",
   "execution_count": 2,
   "id": "4f6059f1",
   "metadata": {},
   "outputs": [],
   "source": [
    "include(\"./src/ComputationalGraph.jl\")\n",
    "include(\"./src/Printing.jl\")\n",
    "include(\"./src/GraphBuilding.jl\")\n",
    "include(\"./src/ForwardPass.jl\")\n",
    "include(\"./src/BackwardPass.jl\")\n",
    "include(\"./src/ScalarOperations.jl\")\n",
    "include(\"./src/BroadcastOperations.jl\")\n",
    "include(\"./src/flux_like_api.jl\")"
   ]
  },
  {
   "cell_type": "markdown",
   "id": "53450276",
   "metadata": {},
   "source": [
    "## Test Data"
   ]
  },
  {
   "cell_type": "code",
   "execution_count": 3,
   "id": "26d2c26d",
   "metadata": {},
   "outputs": [],
   "source": [
    "using JLD2\n",
    "X_train = load(\"./data/imdb_dataset_prepared.jld2\", \"X_train\")\n",
    "y_train = load(\"./data/imdb_dataset_prepared.jld2\", \"y_train\")\n",
    "X_test = load(\"./data/imdb_dataset_prepared.jld2\", \"X_test\")\n",
    "y_test = load(\"./data/imdb_dataset_prepared.jld2\", \"y_test\")\n",
    "nothing"
   ]
  },
  {
   "cell_type": "markdown",
   "id": "929a3718",
   "metadata": {},
   "source": [
    "## Nural Network"
   ]
  },
  {
   "cell_type": "markdown",
   "id": "a44adede",
   "metadata": {},
   "source": [
    "### Hyperparameters"
   ]
  },
  {
   "cell_type": "code",
   "execution_count": 4,
   "id": "64e50c33",
   "metadata": {},
   "outputs": [
    {
     "data": {
      "text/plain": [
       "5"
      ]
     },
     "metadata": {},
     "output_type": "display_data"
    }
   ],
   "source": [
    "input_neurons = size(X_train, 1)\n",
    "hidden_neurons = 32\n",
    "output_neurons = 1\n",
    "\n",
    "batch_size = 64\n",
    "epochs = 5"
   ]
  },
  {
   "cell_type": "markdown",
   "id": "604e5132",
   "metadata": {},
   "source": [
    "### Los Function"
   ]
  },
  {
   "cell_type": "code",
   "execution_count": 5,
   "id": "0ca28a9c",
   "metadata": {},
   "outputs": [
    {
     "data": {
      "text/plain": [
       "loss (generic function with 1 method)"
      ]
     },
     "metadata": {},
     "output_type": "display_data"
    }
   ],
   "source": [
    "binary_cross_entropy_loss(y, ŷ) = mean(Constant(-1.0) .* (y .* log.(ŷ) .+ (Constant(1.0) .- y) .* log.(Constant(1.0) .- ŷ)))\n",
    "\n",
    "function loss(model, x, y)\n",
    "  ŷ = model(x)\n",
    "  E = binary_cross_entropy_loss(y, ŷ); E.name = \"loss\"\n",
    "  return E, ŷ\n",
    "end"
   ]
  },
  {
   "cell_type": "markdown",
   "id": "e502e37c",
   "metadata": {},
   "source": [
    "### Network Architecture"
   ]
  },
  {
   "cell_type": "code",
   "execution_count": 6,
   "id": "3e91174c",
   "metadata": {},
   "outputs": [
    {
     "data": {
      "text/plain": [
       "AdamState(Adam(0.001, 0.9, 0.999, 1.0e-8), Dict{Variable, Tuple{Array, Array, Int64}}(var weight\n",
       " ┣━ ^ 32×17703 Matrix{Float32}\n",
       " ┗━ ∇ Nothing => ([0.0 0.0 … 0.0 0.0; 0.0 0.0 … 0.0 0.0; … ; 0.0 0.0 … 0.0 0.0; 0.0 0.0 … 0.0 0.0], [0.0 0.0 … 0.0 0.0; 0.0 0.0 … 0.0 0.0; … ; 0.0 0.0 … 0.0 0.0; 0.0 0.0 … 0.0 0.0], 0), var bias\n",
       " ┣━ ^ 1-element Vector{Float64}\n",
       " ┗━ ∇ Nothing => ([0.0], [0.0], 0), var weight\n",
       " ┣━ ^ 1×32 Matrix{Float32}\n",
       " ┗━ ∇ Nothing => ([0.0 0.0 … 0.0 0.0], [0.0 0.0 … 0.0 0.0], 0), var bias\n",
       " ┣━ ^ 32-element Vector{Float64}\n",
       " ┗━ ∇ Nothing => ([0.0, 0.0, 0.0, 0.0, 0.0, 0.0, 0.0, 0.0, 0.0, 0.0  …  0.0, 0.0, 0.0, 0.0, 0.0, 0.0, 0.0, 0.0, 0.0, 0.0], [0.0, 0.0, 0.0, 0.0, 0.0, 0.0, 0.0, 0.0, 0.0, 0.0  …  0.0, 0.0, 0.0, 0.0, 0.0, 0.0, 0.0, 0.0, 0.0, 0.0], 0)))"
      ]
     },
     "metadata": {},
     "output_type": "display_data"
    }
   ],
   "source": [
    "model = Chain(\n",
    "  Dense(input_neurons, hidden_neurons, relu),\n",
    "  Dense(hidden_neurons, output_neurons, σ)\n",
    ")\n",
    "\n",
    "y = Variable(zeros(1, batch_size), name=\"y\")\n",
    "x = Variable(zeros(input_neurons, batch_size), name=\"x\")\n",
    "\n",
    "otp = setup(Adam(), model)"
   ]
  },
  {
   "cell_type": "markdown",
   "id": "3b2e4b8e",
   "metadata": {},
   "source": [
    "### Prepare Data"
   ]
  },
  {
   "cell_type": "code",
   "execution_count": 7,
   "id": "ad3417a4",
   "metadata": {},
   "outputs": [
    {
     "data": {
      "text/plain": [
       "125-element DataLoader(::Tuple{LinearAlgebra.Adjoint{Float32, Matrix{Float32}}, BitMatrix}, shuffle=true, batchsize=64)\n",
       "  with first element:\n",
       "  (17703×64 Matrix{Float32}, 1×64 BitMatrix,)"
      ]
     },
     "metadata": {},
     "output_type": "display_data"
    }
   ],
   "source": [
    "using Printf, Statistics\n",
    "using Flux: DataLoader\n",
    "dataset = DataLoader((X_train, y_train), batchsize=64, shuffle=true)"
   ]
  },
  {
   "cell_type": "markdown",
   "id": "3d655209",
   "metadata": {},
   "source": [
    "### Training"
   ]
  },
  {
   "cell_type": "code",
   "execution_count": 13,
   "id": "569c0c06",
   "metadata": {},
   "outputs": [
    {
     "ename": "InterruptException",
     "evalue": "InterruptException:",
     "output_type": "error",
     "traceback": [
      "InterruptException:\n",
      "\n",
      "Stacktrace:\n",
      " [1] backward!(node::BroadcastedOperator{typeof(log)})\n",
      "   @ Main ~/LocalDocuments/Studia/AlgorytmyWInzynieriiDanych/myAutomaticDifferentiation/SimpleNuralNetwork/src/BackwardPass.jl:20\n",
      " [2] backward!(order::Vector{Any}; seed::Float64)\n",
      "   @ Main ~/LocalDocuments/Studia/AlgorytmyWInzynieriiDanych/myAutomaticDifferentiation/SimpleNuralNetwork/src/BackwardPass.jl:11\n",
      " [3] backward!(order::Vector{Any})\n",
      "   @ Main ~/LocalDocuments/Studia/AlgorytmyWInzynieriiDanych/myAutomaticDifferentiation/SimpleNuralNetwork/src/BackwardPass.jl:6\n",
      " [4] macro expansion\n",
      "   @ ~/LocalDocuments/Studia/AlgorytmyWInzynieriiDanych/myAutomaticDifferentiation/SimpleNuralNetwork/jl_notebook_cell_df34fa98e69747e1a8f8a730347b8e2f_X16sZmlsZQ==.jl:21 [inlined]\n",
      " [5] macro expansion\n",
      "   @ ./timing.jl:421 [inlined]\n",
      " [6] top-level scope\n",
      "   @ ~/LocalDocuments/Studia/AlgorytmyWInzynieriiDanych/myAutomaticDifferentiation/SimpleNuralNetwork/jl_notebook_cell_df34fa98e69747e1a8f8a730347b8e2f_X16sZmlsZQ==.jl:9"
     ]
    }
   ],
   "source": [
    "L, ŷ_node = loss(model, x, y)\n",
    "graph = topological_sort(L)\n",
    "\n",
    "for epoch in 1:epochs\n",
    "    total_loss = 0.0\n",
    "    total_correct = 0\n",
    "    total_samples = 0\n",
    "\n",
    "    t = @elapsed begin\n",
    "        for (xb, yb) in dataset\n",
    "            current_batch_size = size(xb, 2)\n",
    "\n",
    "            x.output .= xb\n",
    "            y.output .= yb\n",
    "\n",
    "            lossValue = forward!(graph)\n",
    "\n",
    "            for param in trainable(model)\n",
    "                param.gradient = nothing\n",
    "            end\n",
    "            backward!(graph)\n",
    "\n",
    "            update!(otp, model)\n",
    "\n",
    "            ŷ = ŷ_node.output\n",
    "            predictions = ŷ .> 0.5\n",
    "            targets = y.output .> 0.5\n",
    "            total_correct += count(predictions .== targets)\n",
    "            total_loss += lossValue[1] * current_batch_size\n",
    "            total_samples += current_batch_size\n",
    "        end\n",
    "    end\n",
    "\n",
    "    avg_loss = total_loss / total_samples\n",
    "    avg_acc = total_correct / total_samples\n",
    "\n",
    "    println(@sprintf(\"Epoch: %d (%.2fs) \\tTrain: (loss: %.4f, acc: %.4f)\",\n",
    "        epoch, t, avg_loss, avg_acc))\n",
    "\n",
    "end"
   ]
  }
 ],
 "metadata": {
  "kernelspec": {
   "display_name": "Julia 1.11.5",
   "language": "julia",
   "name": "julia-1.11"
  },
  "language_info": {
   "file_extension": ".jl",
   "mimetype": "application/julia",
   "name": "julia",
   "version": "1.11.5"
  }
 },
 "nbformat": 4,
 "nbformat_minor": 5
}
